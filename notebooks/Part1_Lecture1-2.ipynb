{
 "cells": [
  {
   "cell_type": "code",
   "execution_count": null,
   "id": "1cbc3b3e-2fb9-4161-8c9c-1d13d2973019",
   "metadata": {},
   "outputs": [
    {
     "data": {
      "text/plain": [
       "1"
      ]
     },
     "execution_count": 1,
     "metadata": {},
     "output_type": "execute_result"
    }
   ],
   "source": [
    "3//2"
   ]
  },
  {
   "cell_type": "code",
   "execution_count": null,
   "id": "94936aaf-a615-4a4b-b3f0-6ed2d47a8ccb",
   "metadata": {},
   "outputs": [
    {
     "data": {
      "text/plain": [
       "1"
      ]
     },
     "execution_count": 3,
     "metadata": {},
     "output_type": "execute_result"
    }
   ],
   "source": [
    "3%2"
   ]
  },
  {
   "cell_type": "code",
   "execution_count": null,
   "id": "fcb9fd9d-d742-4d55-ba91-1749d9ca5e82",
   "metadata": {},
   "outputs": [
    {
     "data": {
      "text/plain": [
       "1.5"
      ]
     },
     "execution_count": 2,
     "metadata": {},
     "output_type": "execute_result"
    }
   ],
   "source": [
    "3/2"
   ]
  },
  {
   "cell_type": "code",
   "execution_count": null,
   "id": "ee5ef98c-ece7-4f1d-8680-56f135dbce25",
   "metadata": {},
   "outputs": [
    {
     "data": {
      "text/plain": [
       "0"
      ]
     },
     "execution_count": 4,
     "metadata": {},
     "output_type": "execute_result"
    }
   ],
   "source": [
    "8%2"
   ]
  },
  {
   "cell_type": "code",
   "execution_count": null,
   "id": "62402e3f-f72b-44cc-b130-6ceebfbf9112",
   "metadata": {},
   "outputs": [
    {
     "data": {
      "text/plain": [
       "1"
      ]
     },
     "execution_count": 5,
     "metadata": {},
     "output_type": "execute_result"
    }
   ],
   "source": [
    "9%2"
   ]
  },
  {
   "cell_type": "code",
   "execution_count": null,
   "id": "01d3f081-4809-4569-a3cc-2d47b79b79ee",
   "metadata": {},
   "outputs": [
    {
     "data": {
      "text/plain": [
       "27"
      ]
     },
     "execution_count": 6,
     "metadata": {},
     "output_type": "execute_result"
    }
   ],
   "source": [
    "3**3"
   ]
  },
  {
   "cell_type": "code",
   "execution_count": null,
   "id": "8e83b70e-6731-42ac-9568-725c56d0d3ed",
   "metadata": {},
   "outputs": [
    {
     "data": {
      "text/plain": [
       "4294967296"
      ]
     },
     "execution_count": 9,
     "metadata": {},
     "output_type": "execute_result"
    }
   ],
   "source": [
    "2**32"
   ]
  },
  {
   "cell_type": "code",
   "execution_count": null,
   "id": "7ebb2eef-60c7-421c-bbdb-d2db3dd504ed",
   "metadata": {},
   "outputs": [
    {
     "data": {
      "text/plain": [
       "18446744073709551616"
      ]
     },
     "execution_count": 10,
     "metadata": {},
     "output_type": "execute_result"
    }
   ],
   "source": [
    "2**64"
   ]
  },
  {
   "cell_type": "code",
   "execution_count": null,
   "id": "f2be865c-a9ca-4918-a03e-654be68007b8",
   "metadata": {},
   "outputs": [
    {
     "data": {
      "text/plain": [
       "True"
      ]
     },
     "execution_count": 11,
     "metadata": {},
     "output_type": "execute_result"
    }
   ],
   "source": [
    "True == 1"
   ]
  },
  {
   "cell_type": "code",
   "execution_count": null,
   "id": "0152394d-0d88-4fc7-a07b-6199d0540fc5",
   "metadata": {},
   "outputs": [
    {
     "data": {
      "text/plain": [
       "True"
      ]
     },
     "execution_count": 12,
     "metadata": {},
     "output_type": "execute_result"
    }
   ],
   "source": [
    "False == 0"
   ]
  },
  {
   "cell_type": "code",
   "execution_count": null,
   "id": "903ac423-54fd-494a-8d18-4e89d402df3f",
   "metadata": {},
   "outputs": [
    {
     "data": {
      "text/plain": [
       "True"
      ]
     },
     "execution_count": 14,
     "metadata": {},
     "output_type": "execute_result"
    }
   ],
   "source": [
    "my_var = \"Hello\"\n",
    "my_var == \"Hello\""
   ]
  },
  {
   "cell_type": "code",
   "execution_count": null,
   "id": "991197b6-8615-4bb2-821a-b47e4303af45",
   "metadata": {},
   "outputs": [
    {
     "data": {
      "text/plain": [
       "False"
      ]
     },
     "execution_count": 23,
     "metadata": {},
     "output_type": "execute_result"
    }
   ],
   "source": [
    "x=1\n",
    "x>2"
   ]
  },
  {
   "cell_type": "code",
   "execution_count": null,
   "id": "59fdf285-1a4f-48b9-b84d-623dcb4d9df0",
   "metadata": {},
   "outputs": [
    {
     "name": "stdout",
     "output_type": "stream",
     "text": [
      "X isn't more than 2\n",
      "Left the condition\n"
     ]
    }
   ],
   "source": [
    "if x > 2:\n",
    "    print(\"X is more than 2\")\n",
    "    print(\"More text\")\n",
    "else:\n",
    "    print(\"X isn't more than 2\")\n",
    "print(\"Left the condition\")"
   ]
  },
  {
   "cell_type": "code",
   "execution_count": null,
   "id": "65d540f6-9f4e-403c-b0e2-50cc81ca95ab",
   "metadata": {},
   "outputs": [
    {
     "data": {
      "text/plain": [
       "True"
      ]
     },
     "execution_count": 19,
     "metadata": {},
     "output_type": "execute_result"
    }
   ],
   "source": [
    "x=x+2\n",
    "x>2"
   ]
  },
  {
   "cell_type": "code",
   "execution_count": null,
   "id": "1bfff9b8-07ba-410d-8515-f30e3f985bb2",
   "metadata": {},
   "outputs": [
    {
     "name": "stdout",
     "output_type": "stream",
     "text": [
      "X is more than 2\n",
      "More text\n",
      "Left the condition\n"
     ]
    }
   ],
   "source": [
    "if x > 2:\n",
    "    print(\"X is more than 2\")\n",
    "    print(\"More text\")\n",
    "else:\n",
    "    print(\"X isn't more than 2\")\n",
    "print(\"Left the condition\")"
   ]
  },
  {
   "cell_type": "code",
   "execution_count": null,
   "id": "41d5076d-d64c-4c68-a87b-9c6e1f9d5f18",
   "metadata": {},
   "outputs": [
    {
     "name": "stdout",
     "output_type": "stream",
     "text": [
      "My var was hello\n"
     ]
    }
   ],
   "source": [
    "if x < 1:\n",
    "    print(\"X is less than 1\")\n",
    "elif my_var == \"Hello\":\n",
    "    print(\"My var was hello\")\n",
    "else:\n",
    "    print(\"Neither condition were matched\")"
   ]
  },
  {
   "cell_type": "code",
   "execution_count": null,
   "id": "0e260b70-dbfc-4773-9b28-827396f600cb",
   "metadata": {},
   "outputs": [
    {
     "data": {
      "text/plain": [
       "True"
      ]
     },
     "execution_count": 35,
     "metadata": {},
     "output_type": "execute_result"
    }
   ],
   "source": [
    "if x < 1:\n",
    "    print(\"X is less than 1\")\n",
    "elif my_var == \"Alex\":\n",
    "    print(\"My var was hello\")\n",
    "else:\n",
    "    # We should not do anything in this case\n",
    "    pass  # Pass doesn't do anything, a so called no-op.\n",
    "\n",
    "def work_in_progress():\n",
    "    # This function will be implemented later\n",
    "    # Two commented lines\n",
    "    pass\n",
    "\n",
    "def another_func():\n",
    "    # This function will be implemented later\n",
    "    pass\n",
    "\n",
    "work_in_progress() is None"
   ]
  },
  {
   "cell_type": "code",
   "execution_count": null,
   "id": "d55d2a9b-3926-496a-9e11-e5258ed58458",
   "metadata": {},
   "outputs": [
    {
     "name": "stdout",
     "output_type": "stream",
     "text": [
      "0\n",
      "1\n",
      "2\n",
      "3\n",
      "4\n",
      "5\n",
      "6\n",
      "7\n",
      "8\n",
      "9\n"
     ]
    }
   ],
   "source": [
    "for x in range(10):\n",
    "    print(x)"
   ]
  },
  {
   "cell_type": "code",
   "execution_count": null,
   "id": "fc822e39-44c3-4a02-806b-2abe93f7e2b1",
   "metadata": {},
   "outputs": [
    {
     "name": "stdout",
     "output_type": "stream",
     "text": [
      "Alex\n",
      "Kalle\n",
      "Anka\n",
      "Python\n"
     ]
    }
   ],
   "source": [
    "for name in [\"Alex\", \"Kalle\", \"Anka\", \"Python\"]:\n",
    "    print(name)"
   ]
  },
  {
   "cell_type": "code",
   "execution_count": null,
   "id": "ba581e2c-64f0-4f2b-bf96-632c1f512461",
   "metadata": {},
   "outputs": [
    {
     "name": "stdout",
     "output_type": "stream",
     "text": [
      "Running\n",
      "0\n",
      "Running\n",
      "1\n",
      "Running\n",
      "2\n",
      "Running\n",
      "3\n",
      "Running\n",
      "4\n",
      "Running\n",
      "5\n",
      "Running\n",
      "6\n",
      "Running\n",
      "7\n",
      "Running\n",
      "8\n",
      "Running\n",
      "9\n"
     ]
    }
   ],
   "source": [
    "some_num = 0\n",
    "while some_num < 10:\n",
    "    print(\"Running\")\n",
    "    print(some_num)\n",
    "    some_num = some_num + 1"
   ]
  },
  {
   "cell_type": "code",
   "execution_count": null,
   "id": "cab99e51-9f33-440b-a46f-0d1e8bc6b1aa",
   "metadata": {},
   "outputs": [
    {
     "name": "stdout",
     "output_type": "stream",
     "text": [
      "11\n"
     ]
    }
   ],
   "source": [
    "print(some_num + 1)"
   ]
  },
  {
   "cell_type": "code",
   "execution_count": null,
   "id": "39fadda4-45db-4292-8028-6c67ce869f22",
   "metadata": {},
   "outputs": [
    {
     "data": {
      "text/plain": [
       "4"
      ]
     },
     "execution_count": 44,
     "metadata": {},
     "output_type": "execute_result"
    }
   ],
   "source": [
    "len(\"Alex\")"
   ]
  },
  {
   "cell_type": "code",
   "execution_count": null,
   "id": "b64139b1-2e9e-4645-8320-69e3ba3358f8",
   "metadata": {},
   "outputs": [
    {
     "data": {
      "text/plain": [
       "4"
      ]
     },
     "execution_count": 45,
     "metadata": {},
     "output_type": "execute_result"
    }
   ],
   "source": [
    "len([\"A\", \"l\", \"e\", \"x\"])"
   ]
  },
  {
   "cell_type": "code",
   "execution_count": null,
   "id": "2876db28-8564-43e0-98d8-8a58e79f1b7e",
   "metadata": {},
   "outputs": [
    {
     "name": "stdout",
     "output_type": "stream",
     "text": [
      "A\n",
      "l\n",
      "e\n",
      "x\n"
     ]
    }
   ],
   "source": [
    "for character in \"Alex\":\n",
    "    print(character)"
   ]
  },
  {
   "cell_type": "code",
   "execution_count": null,
   "id": "12afd5cd-cb68-4a73-80e2-3fc43f7fe0c7",
   "metadata": {},
   "outputs": [
    {
     "name": "stdout",
     "output_type": "stream",
     "text": [
      "10\n",
      "11\n",
      "12\n",
      "13\n",
      "14\n",
      "15\n",
      "16\n",
      "17\n",
      "18\n",
      "19\n"
     ]
    }
   ],
   "source": [
    "# Define a start and stop value\n",
    "for x in range(10, 20):\n",
    "    print(x)"
   ]
  },
  {
   "cell_type": "code",
   "execution_count": null,
   "id": "626827bf-4ebb-4657-89a3-d32af9e73c03",
   "metadata": {},
   "outputs": [
    {
     "name": "stdout",
     "output_type": "stream",
     "text": [
      "10\n",
      "20\n",
      "30\n",
      "40\n",
      "50\n",
      "60\n",
      "70\n",
      "80\n"
     ]
    }
   ],
   "source": [
    "# Version with start, stop and step\n",
    "for x in range(10, 90, 10):\n",
    "    print(x)"
   ]
  },
  {
   "cell_type": "code",
   "execution_count": null,
   "id": "80bd75d0-228f-40a6-8a0c-c262d804272f",
   "metadata": {},
   "outputs": [],
   "source": [
    "def greet_someone(name):\n",
    "    return f\"Hello {name}!\""
   ]
  },
  {
   "cell_type": "code",
   "execution_count": null,
   "id": "b44d0639-33af-49f3-9643-41a9831c47ba",
   "metadata": {},
   "outputs": [
    {
     "data": {
      "text/plain": [
       "'Hello Alex!'"
      ]
     },
     "execution_count": 58,
     "metadata": {},
     "output_type": "execute_result"
    }
   ],
   "source": [
    "greet_someone(name=\"Alex\")"
   ]
  },
  {
   "cell_type": "code",
   "execution_count": null,
   "id": "68c83bc1-70b9-4c47-8b24-d8d5c630d85a",
   "metadata": {},
   "outputs": [
    {
     "name": "stdin",
     "output_type": "stream",
     "text": [
      " Alex was here\n"
     ]
    }
   ],
   "source": [
    "user_data = input()"
   ]
  },
  {
   "cell_type": "code",
   "execution_count": null,
   "id": "be64c961-104f-4841-9945-038d12ae89fc",
   "metadata": {},
   "outputs": [
    {
     "name": "stdout",
     "output_type": "stream",
     "text": [
      "Alex was here\n"
     ]
    }
   ],
   "source": [
    "print(user_data)"
   ]
  },
  {
   "cell_type": "code",
   "execution_count": null,
   "id": "aecb41b5-d7d7-489e-8488-d0e90d6c1087",
   "metadata": {},
   "outputs": [],
   "source": [
    "def greet_someone_somewhere(name, location):\n",
    "    return f\"Hello {name}, nice to see you in {location}!\""
   ]
  },
  {
   "cell_type": "code",
   "execution_count": null,
   "id": "0337b170-17a8-4d6d-85d2-8f7b03c94d75",
   "metadata": {},
   "outputs": [
    {
     "ename": "TypeError",
     "evalue": "greet_someone_somewhere() missing 1 required positional argument: 'location'",
     "output_type": "error",
     "traceback": [
      "\u001b[0;31m---------------------------------------------------------------------------\u001b[0m",
      "\u001b[0;31mTypeError\u001b[0m                                 Traceback (most recent call last)",
      "Input \u001b[0;32mIn [64]\u001b[0m, in \u001b[0;36m<cell line: 1>\u001b[0;34m()\u001b[0m\n\u001b[0;32m----> 1\u001b[0m \u001b[43mgreet_someone_somewhere\u001b[49m\u001b[43m(\u001b[49m\u001b[38;5;124;43m\"\u001b[39;49m\u001b[38;5;124;43mAlex\u001b[39;49m\u001b[38;5;124;43m\"\u001b[39;49m\u001b[43m)\u001b[49m\n",
      "\u001b[0;31mTypeError\u001b[0m: greet_someone_somewhere() missing 1 required positional argument: 'location'"
     ]
    }
   ],
   "source": [
    "greet_someone_somewhere(\"Alex\")"
   ]
  },
  {
   "cell_type": "code",
   "execution_count": null,
   "id": "610c6119-f3ff-40ac-b5ce-a3f1d086d762",
   "metadata": {},
   "outputs": [
    {
     "data": {
      "text/plain": [
       "'Hello Alex, nice to see you in USA!'"
      ]
     },
     "execution_count": 65,
     "metadata": {},
     "output_type": "execute_result"
    }
   ],
   "source": [
    "greet_someone_somewhere(\"Alex\", \"USA\")"
   ]
  },
  {
   "cell_type": "code",
   "execution_count": null,
   "id": "2b29840c-08c9-446c-8fae-a12f21c5f807",
   "metadata": {},
   "outputs": [
    {
     "data": {
      "text/plain": [
       "'Hello Alex, nice to see you in USA!'"
      ]
     },
     "execution_count": 66,
     "metadata": {},
     "output_type": "execute_result"
    }
   ],
   "source": [
    "greet_someone_somewhere(name=\"Alex\", location=\"USA\")"
   ]
  },
  {
   "cell_type": "code",
   "execution_count": null,
   "id": "681b646f-f771-4864-9692-74b1738a6495",
   "metadata": {},
   "outputs": [
    {
     "data": {
      "text/plain": [
       "'Hello Alex, nice to see you in USA!'"
      ]
     },
     "execution_count": 67,
     "metadata": {},
     "output_type": "execute_result"
    }
   ],
   "source": [
    "greet_someone_somewhere(location=\"USA\", name=\"Alex\")"
   ]
  },
  {
   "cell_type": "code",
   "execution_count": null,
   "id": "7698fc84-4f1b-4756-b29c-f16eaad23f7b",
   "metadata": {},
   "outputs": [],
   "source": [
    "def greet_someone_somewhere_default_sweden(name, location=\"Sweden\"):\n",
    "    return f\"Hello {name}, nice to see you in {location}!\""
   ]
  },
  {
   "cell_type": "code",
   "execution_count": null,
   "id": "379f99c4-0d6c-4d2c-b45f-b67b8d53b3d2",
   "metadata": {},
   "outputs": [
    {
     "data": {
      "text/plain": [
       "'Hello Alex, nice to see you in Sweden!'"
      ]
     },
     "execution_count": 69,
     "metadata": {},
     "output_type": "execute_result"
    }
   ],
   "source": [
    "greet_someone_somewhere_default_sweden(\"Alex\")"
   ]
  }
 ],
 "metadata": {
  "kernelspec": {
   "display_name": "Python 3 (ipykernel)",
   "language": "python",
   "name": "python3"
  },
  "language_info": {
   "codemirror_mode": {
    "name": "ipython",
    "version": 3
   },
   "file_extension": ".py",
   "mimetype": "text/x-python",
   "name": "python",
   "nbconvert_exporter": "python",
   "pygments_lexer": "ipython3",
   "version": "3.10.3"
  }
 },
 "nbformat": 4,
 "nbformat_minor": 5
}
