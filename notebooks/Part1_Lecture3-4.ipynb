{
 "cells": [
  {
   "cell_type": "markdown",
   "id": "5ab55a6f-6121-4a53-86f4-371f43a9b826",
   "metadata": {},
   "source": [
    "# Lecture 3"
   ]
  },
  {
   "cell_type": "markdown",
   "id": "b8d555d0-8f55-4b35-9e71-f0f27f3cad60",
   "metadata": {},
   "source": [
    "# Common Data Structures\n",
    "- List\n",
    "- Dict\n",
    "- Set\n",
    "- Tuple"
   ]
  },
  {
   "cell_type": "markdown",
   "id": "b2b072a4-e6f9-4348-92a4-c5ff342780ac",
   "metadata": {},
   "source": [
    "---\n",
    "\n",
    "# List\n",
    "\n",
    "A list is created using `[]`, this will create an empty list, the list can also be initiated with the `list`-function, `list()`\n",
    "\n",
    "<https://www.learnbyexample.org/python-list/>"
   ]
  },
  {
   "cell_type": "code",
   "execution_count": 12,
   "id": "193769b0-918e-44f3-b9ae-7417a92a9b25",
   "metadata": {},
   "outputs": [],
   "source": [
    "a_list = []\n",
    "also_a_list = list()"
   ]
  },
  {
   "cell_type": "markdown",
   "id": "db26b3aa-9613-4a37-9b43-cf07b4640f3d",
   "metadata": {},
   "source": [
    "A list can be initiated with members. List items are separated by a `,` and can be other variables of any type, even another list."
   ]
  },
  {
   "cell_type": "code",
   "execution_count": 13,
   "id": "8487224c-6a24-4cc4-908d-74e257672af4",
   "metadata": {},
   "outputs": [
    {
     "name": "stdout",
     "output_type": "stream",
     "text": [
      "[1, True, None, [], 'string value']\n"
     ]
    }
   ],
   "source": [
    "a_list = [ 1, True, None, also_a_list, \"string value\", ]\n",
    "print(a_list)"
   ]
  },
  {
   "cell_type": "markdown",
   "id": "f8b69a0a-40c2-4079-b5c1-8927aa595739",
   "metadata": {},
   "source": [
    "---"
   ]
  },
  {
   "cell_type": "markdown",
   "id": "ff5ab358-0173-418a-a386-d1de969e318a",
   "metadata": {},
   "source": [
    "# Indexing of list items\n",
    "Lists are 0 indexed, and items can be accesed via their index id using brackets `[idx]`"
   ]
  },
  {
   "cell_type": "code",
   "execution_count": 14,
   "id": "1bd4d7f8-a083-4ab5-9c6e-01d506c67c8f",
   "metadata": {},
   "outputs": [
    {
     "data": {
      "text/plain": [
       "1"
      ]
     },
     "execution_count": 14,
     "metadata": {},
     "output_type": "execute_result"
    }
   ],
   "source": [
    "a_list[0]"
   ]
  },
  {
   "cell_type": "markdown",
   "id": "907abd92-4439-402e-888c-9739ce2b0489",
   "metadata": {},
   "source": [
    "You can also use negative indicies to search the list from the back, starting with `-1`"
   ]
  },
  {
   "cell_type": "code",
   "execution_count": 15,
   "id": "a288b25d-6fb3-47fc-b44f-00faea6b3a78",
   "metadata": {},
   "outputs": [
    {
     "data": {
      "text/plain": [
       "'string value'"
      ]
     },
     "execution_count": 15,
     "metadata": {},
     "output_type": "execute_result"
    }
   ],
   "source": [
    "a_list[-1]"
   ]
  },
  {
   "cell_type": "markdown",
   "id": "5b0200af-59bc-4443-915c-a495b43213f3",
   "metadata": {},
   "source": [
    "---\n",
    "\n",
    "Lists can also be sliced using a similar syntax `a_list[ start : stop : step ]`  \n",
    "<https://www.learnbyexample.org/python-list-slicing/>"
   ]
  },
  {
   "cell_type": "code",
   "execution_count": 21,
   "id": "cff29b54-9b1f-4c92-8e75-4a7e43338420",
   "metadata": {},
   "outputs": [
    {
     "data": {
      "text/plain": [
       "[True, []]"
      ]
     },
     "execution_count": 21,
     "metadata": {},
     "output_type": "execute_result"
    }
   ],
   "source": [
    "a_list[1:5:2]"
   ]
  },
  {
   "cell_type": "code",
   "execution_count": 22,
   "id": "ac1ceea9-c2f9-45a7-8aa1-074d72fde28a",
   "metadata": {},
   "outputs": [
    {
     "data": {
      "text/plain": [
       "[True, None, []]"
      ]
     },
     "execution_count": 22,
     "metadata": {},
     "output_type": "execute_result"
    }
   ],
   "source": [
    "a_list[1:4]"
   ]
  },
  {
   "cell_type": "code",
   "execution_count": 24,
   "id": "8d546dff-e8d5-49ed-891f-770a7741aa67",
   "metadata": {},
   "outputs": [
    {
     "data": {
      "text/plain": [
       "[[]]"
      ]
     },
     "execution_count": 24,
     "metadata": {},
     "output_type": "execute_result"
    }
   ],
   "source": [
    "a_list[3:-1]"
   ]
  },
  {
   "cell_type": "code",
   "execution_count": 25,
   "id": "6406907c-4680-43f4-9a93-699a96d6bd41",
   "metadata": {},
   "outputs": [
    {
     "data": {
      "text/plain": [
       "[True, None, []]"
      ]
     },
     "execution_count": 25,
     "metadata": {},
     "output_type": "execute_result"
    }
   ],
   "source": [
    "a_list[1:-1]"
   ]
  },
  {
   "cell_type": "code",
   "execution_count": 26,
   "id": "c02310c5-ef6e-44cf-be31-e544002d404c",
   "metadata": {},
   "outputs": [
    {
     "data": {
      "text/plain": [
       "[1, True, None, [], 'string value', 0, 1, 2, 3, 4, 5, 6, 7, 8, 9]"
      ]
     },
     "execution_count": 26,
     "metadata": {},
     "output_type": "execute_result"
    }
   ],
   "source": [
    "# Combinde two lists\n",
    "new_list = a_list + list(range(10))\n",
    "new_list"
   ]
  },
  {
   "cell_type": "markdown",
   "id": "ec971f72-30fa-41b1-9783-7e703cbedc04",
   "metadata": {},
   "source": [
    "With append we can add a element to the list, in this case a list in the list."
   ]
  },
  {
   "cell_type": "code",
   "execution_count": 30,
   "id": "00e17b87-0452-4803-97a3-b90fc469e402",
   "metadata": {},
   "outputs": [
    {
     "name": "stdout",
     "output_type": "stream",
     "text": [
      "['Kalle', [1, True, None, [], 'string value']]\n"
     ]
    }
   ],
   "source": [
    "x = [\"Kalle\"]\n",
    "x.append(a_list)\n",
    "print(x)"
   ]
  },
  {
   "cell_type": "markdown",
   "id": "1d9db936-ae8c-4715-8222-7310f0531c9a",
   "metadata": {},
   "source": [
    "If we want to instead add all elements of `a_list` to `x` we can use `.extend(...)`"
   ]
  },
  {
   "cell_type": "code",
   "execution_count": 32,
   "id": "d39d58b4-a93a-4519-84e9-885aaff98e2f",
   "metadata": {},
   "outputs": [
    {
     "name": "stdout",
     "output_type": "stream",
     "text": [
      "['Kalle', 1, True, None, [], 'string value']\n"
     ]
    }
   ],
   "source": [
    "x = [\"Kalle\"]\n",
    "x.extend(a_list)\n",
    "print(x)"
   ]
  },
  {
   "cell_type": "code",
   "execution_count": 33,
   "id": "af54c6fa-c6d5-42bc-bdd1-7ef18c8b5ed1",
   "metadata": {},
   "outputs": [
    {
     "name": "stdout",
     "output_type": "stream",
     "text": [
      "[1, True, None, [], 'string value']\n"
     ]
    }
   ],
   "source": [
    "print(a_list)"
   ]
  },
  {
   "cell_type": "code",
   "execution_count": 38,
   "id": "2ee263e6-fac7-4959-9ec1-8610ea028c78",
   "metadata": {},
   "outputs": [
    {
     "name": "stdout",
     "output_type": "stream",
     "text": [
      "['Kalle', 1, True, None, [], 'string value', 1, True, None, [], 'string value']\n"
     ]
    }
   ],
   "source": [
    "new_list = [*x, *a_list]\n",
    "# Roughly: [ x[0], x[1], x[2], ..., x[n], a_list[1], ... , a_list[n] ]\n",
    "print(new_list)"
   ]
  },
  {
   "cell_type": "markdown",
   "id": "14688ad6-5d0e-4f6f-9b51-f0602d3faed6",
   "metadata": {},
   "source": [
    "---\n",
    "\n",
    "# Common list methods\n",
    "\n",
    "Called by on the list data/variable, for instance `new_list.remove(1)`\n",
    "\n",
    "- `.append(x)`: Append item to list\n",
    "- `.extend(other_list)`: Append a list to the list \n",
    "- `.insert(i, x)`: Insert an item x at a given position i.\n",
    "- `.remove(x)`: Remove the first item from the list whose value is equal to x.\n",
    "\n",
    "More functions: <https://docs.python.org/3/tutorial/datastructures.html#more-on-lists>"
   ]
  },
  {
   "cell_type": "markdown",
   "id": "7fb51244-02f7-4924-a37e-8cacd2d776d4",
   "metadata": {},
   "source": [
    "---\n",
    "\n",
    "# Dict, dictionary\n",
    "\n",
    "Key-value storage of data, maps from a key to the value.\n",
    "\n",
    "<https://www.learnbyexample.org/python-dictionary/>"
   ]
  },
  {
   "cell_type": "code",
   "execution_count": 39,
   "id": "eaf81d24-ccc8-4af5-b779-df96aeef3337",
   "metadata": {},
   "outputs": [
    {
     "name": "stdout",
     "output_type": "stream",
     "text": [
      "name :  Ada Lovelace\n",
      "born_year :  1815\n",
      "expertise :  The first computer programmer.\n"
     ]
    }
   ],
   "source": [
    "my_dictionary = {\n",
    "    \"name\": \"Ada Lovelace\",\n",
    "    \"born_year\": 1815,\n",
    "    \"expertise\": \"The first computer programmer.\"\n",
    "}\n",
    "\n",
    "for key, value in my_dictionary.items():\n",
    "    print(key, ': ', value)"
   ]
  },
  {
   "cell_type": "code",
   "execution_count": 43,
   "id": "65d0b46c-68fa-4794-87a4-b623e563247f",
   "metadata": {},
   "outputs": [
    {
     "name": "stdout",
     "output_type": "stream",
     "text": [
      "name :  Ada Lovelace\n",
      "born_year :  1815\n",
      "expertise :  The first computer programmer.\n"
     ]
    }
   ],
   "source": [
    "# Only last value is shown in the case of a collision\n",
    "my_dictionary = {\n",
    "    \"name\": \"Ada Lovelace\",\n",
    "    \"born_year\": 123,\n",
    "    \"born_year\": 1815,\n",
    "    \"expertise\": \"The first computer programmer.\"\n",
    "}\n",
    "\n",
    "for key, value in my_dictionary.items():\n",
    "    print(key, ': ', value)"
   ]
  },
  {
   "cell_type": "markdown",
   "id": "ccc73a32-71f2-479f-bfee-6b8622dadbaf",
   "metadata": {},
   "source": [
    "We can also use other data types for keys"
   ]
  },
  {
   "cell_type": "code",
   "execution_count": 45,
   "id": "88ec0f4e-7811-4d2a-8db9-a76ad66cc6fe",
   "metadata": {},
   "outputs": [
    {
     "data": {
      "text/plain": [
       "'Ost'"
      ]
     },
     "execution_count": 45,
     "metadata": {},
     "output_type": "execute_result"
    }
   ],
   "source": [
    "other_dict = {\n",
    "    None: \"Ost\",\n",
    "    23: \"Bil\",\n",
    "}\n",
    "other_dict[None]"
   ]
  },
  {
   "cell_type": "code",
   "execution_count": 48,
   "id": "ab1d1b27-c044-45df-9c13-d823d8568977",
   "metadata": {},
   "outputs": [
    {
     "data": {
      "text/plain": [
       "'Ada Lovelace'"
      ]
     },
     "execution_count": 48,
     "metadata": {},
     "output_type": "execute_result"
    }
   ],
   "source": [
    "my_dictionary.get(\"name\")"
   ]
  },
  {
   "cell_type": "code",
   "execution_count": 49,
   "id": "f3802d3d-dc32-4c1f-80be-80f610401fe4",
   "metadata": {},
   "outputs": [
    {
     "ename": "KeyError",
     "evalue": "'car'",
     "output_type": "error",
     "traceback": [
      "\u001b[0;31m---------------------------------------------------------------------------\u001b[0m",
      "\u001b[0;31mKeyError\u001b[0m                                  Traceback (most recent call last)",
      "Input \u001b[0;32mIn [49]\u001b[0m, in \u001b[0;36m<cell line: 1>\u001b[0;34m()\u001b[0m\n\u001b[0;32m----> 1\u001b[0m \u001b[43mmy_dictionary\u001b[49m\u001b[43m[\u001b[49m\u001b[38;5;124;43m\"\u001b[39;49m\u001b[38;5;124;43mcar\u001b[39;49m\u001b[38;5;124;43m\"\u001b[39;49m\u001b[43m]\u001b[49m\n",
      "\u001b[0;31mKeyError\u001b[0m: 'car'"
     ]
    }
   ],
   "source": [
    "my_dictionary[\"car\"]"
   ]
  },
  {
   "cell_type": "code",
   "execution_count": 51,
   "id": "c5f8e635-efdd-4195-ba55-f70e35e422f5",
   "metadata": {},
   "outputs": [
    {
     "name": "stdout",
     "output_type": "stream",
     "text": [
      "None\n"
     ]
    }
   ],
   "source": [
    "print(my_dictionary.get(\"car\"))"
   ]
  },
  {
   "cell_type": "code",
   "execution_count": 52,
   "id": "bc36d919-2782-41c0-b2c4-1b4724b139d6",
   "metadata": {},
   "outputs": [
    {
     "name": "stdout",
     "output_type": "stream",
     "text": [
      "Help on built-in function get:\n",
      "\n",
      "get(key, default=None, /) method of builtins.dict instance\n",
      "    Return the value for key if key is in the dictionary, else default.\n",
      "\n"
     ]
    }
   ],
   "source": [
    "help(my_dictionary.get)"
   ]
  },
  {
   "cell_type": "code",
   "execution_count": 65,
   "id": "f6647f65-521d-4ecf-978c-050e6a7e3946",
   "metadata": {},
   "outputs": [
    {
     "name": "stdout",
     "output_type": "stream",
     "text": [
      "T-Ford\n"
     ]
    }
   ],
   "source": [
    "print(my_dictionary.get(\"car\", \"T-Ford\"))"
   ]
  },
  {
   "cell_type": "code",
   "execution_count": 55,
   "id": "ada7ff47-93c3-48d3-8bfd-76d67a05a4b3",
   "metadata": {},
   "outputs": [
    {
     "name": "stdout",
     "output_type": "stream",
     "text": [
      "Ada Lovelace\n"
     ]
    }
   ],
   "source": [
    "# Fetch a key that exists\n",
    "print(my_dictionary.get(\"name\", \"T-Ford\"))"
   ]
  },
  {
   "cell_type": "code",
   "execution_count": 57,
   "id": "9d61d62c-0b42-449a-b92a-9d1a278ec152",
   "metadata": {},
   "outputs": [],
   "source": [
    "# Add the car to the dictionary\n",
    "my_dictionary[\"car\"] = \"T-Ford\""
   ]
  },
  {
   "cell_type": "code",
   "execution_count": 58,
   "id": "eb563f10-486b-410d-8122-aab0e2116a33",
   "metadata": {},
   "outputs": [
    {
     "data": {
      "text/plain": [
       "'T-Ford'"
      ]
     },
     "execution_count": 58,
     "metadata": {},
     "output_type": "execute_result"
    }
   ],
   "source": [
    "my_dictionary[\"car\"]"
   ]
  },
  {
   "cell_type": "markdown",
   "id": "cd13329a-f338-4cf7-862a-5a6f691c57df",
   "metadata": {},
   "source": [
    "Double splat ( `**` ), expands the dictonary to key=value, can be passed to a function."
   ]
  },
  {
   "cell_type": "code",
   "execution_count": 63,
   "id": "18f0e5a4-e626-423a-bbd4-7d85750aa7ab",
   "metadata": {},
   "outputs": [
    {
     "data": {
      "text/plain": [
       "{'name': 'Ada Lovelace',\n",
       " 'born_year': 1815,\n",
       " 'expertise': 'The first computer programmer.',\n",
       " 'car': 'T-Ford'}"
      ]
     },
     "execution_count": 63,
     "metadata": {},
     "output_type": "execute_result"
    }
   ],
   "source": [
    "dict(**my_dictionary)"
   ]
  },
  {
   "cell_type": "code",
   "execution_count": 64,
   "id": "852ee0d0-7195-483b-9709-2b630eb079f0",
   "metadata": {},
   "outputs": [
    {
     "data": {
      "text/plain": [
       "{'name': 'Ada Lovelace',\n",
       " 'born_year': 1815,\n",
       " 'expertise': 'The first computer programmer.',\n",
       " 'car': 'T-Ford'}"
      ]
     },
     "execution_count": 64,
     "metadata": {},
     "output_type": "execute_result"
    }
   ],
   "source": [
    "# Same as\n",
    "dict(\n",
    "    name=my_dictionary[\"name\"],\n",
    "    born_year=my_dictionary[\"born_year\"],\n",
    "    expertise=my_dictionary[\"expertise\"],\n",
    "    car=my_dictionary[\"car\"],\n",
    ")"
   ]
  },
  {
   "cell_type": "code",
   "execution_count": 66,
   "id": "98945111-b5cc-4d0b-b968-43d031340eb4",
   "metadata": {},
   "outputs": [
    {
     "data": {
      "text/plain": [
       "{'name': 'Ada Lovelace',\n",
       " 'born_year': 1815,\n",
       " 'expertise': 'The first computer programmer.',\n",
       " 'car': 'T-Ford',\n",
       " None: 'Ost',\n",
       " 23: 'Bil'}"
      ]
     },
     "execution_count": 66,
     "metadata": {},
     "output_type": "execute_result"
    }
   ],
   "source": [
    "{**my_dictionary, **other_dict}"
   ]
  },
  {
   "cell_type": "markdown",
   "id": "57b5a6b6-87a2-4702-895c-6f6c3c4e921a",
   "metadata": {},
   "source": [
    "In recent python (3.9) a dict union operator `|` was added.\n",
    "<https://peps.python.org/pep-0584/>\n",
    "\n",
    "This is used to combine two dicts into a new with all items from both, like with `**` above."
   ]
  },
  {
   "cell_type": "code",
   "execution_count": 69,
   "id": "70b92157-35a0-4262-bb65-649ba7a5cec3",
   "metadata": {},
   "outputs": [
    {
     "data": {
      "text/plain": [
       "{'name': 'Ada Lovelace',\n",
       " 'born_year': 1815,\n",
       " 'expertise': 'The first computer programmer.',\n",
       " 'car': 'T-Ford',\n",
       " None: 'Ost',\n",
       " 23: 'Bil'}"
      ]
     },
     "execution_count": 69,
     "metadata": {},
     "output_type": "execute_result"
    }
   ],
   "source": [
    "new_dict = my_dictionary|other_dict\n",
    "new_dict"
   ]
  },
  {
   "cell_type": "code",
   "execution_count": 70,
   "id": "5531b11c-ced3-4b6d-bd33-b8ac541a19a8",
   "metadata": {},
   "outputs": [
    {
     "data": {
      "text/plain": [
       "{'name': 'Ada Lovelace',\n",
       " 'born_year': 1815,\n",
       " 'expertise': 'The first computer programmer.',\n",
       " 'car': 'T-Ford'}"
      ]
     },
     "execution_count": 70,
     "metadata": {},
     "output_type": "execute_result"
    }
   ],
   "source": [
    "my_dictionary"
   ]
  },
  {
   "cell_type": "markdown",
   "id": "5eab9bdf-d125-4b77-ab46-1359bd002836",
   "metadata": {},
   "source": [
    "## Tuples"
   ]
  },
  {
   "cell_type": "code",
   "execution_count": 88,
   "id": "f0e91b3c-58b0-41f2-beac-829079a599d9",
   "metadata": {},
   "outputs": [
    {
     "name": "stdout",
     "output_type": "stream",
     "text": [
      "(1, 3, 7, None, 'abc')\n"
     ]
    }
   ],
   "source": [
    "our_tup = (1, 3, 7, None, \"abc\")\n",
    "print(our_tup)"
   ]
  },
  {
   "cell_type": "code",
   "execution_count": 89,
   "id": "1066a497-ec5b-4869-8743-d62b7c5aeb25",
   "metadata": {},
   "outputs": [
    {
     "data": {
      "text/plain": [
       "1"
      ]
     },
     "execution_count": 89,
     "metadata": {},
     "output_type": "execute_result"
    }
   ],
   "source": [
    "our_tup[0]"
   ]
  },
  {
   "cell_type": "code",
   "execution_count": 74,
   "id": "bd507f4b-0e92-47cc-9503-595ae2551860",
   "metadata": {},
   "outputs": [
    {
     "ename": "AttributeError",
     "evalue": "'tuple' object has no attribute 'extend'",
     "output_type": "error",
     "traceback": [
      "\u001b[0;31m---------------------------------------------------------------------------\u001b[0m",
      "\u001b[0;31mAttributeError\u001b[0m                            Traceback (most recent call last)",
      "Input \u001b[0;32mIn [74]\u001b[0m, in \u001b[0;36m<cell line: 1>\u001b[0;34m()\u001b[0m\n\u001b[0;32m----> 1\u001b[0m \u001b[43mour_tup\u001b[49m\u001b[38;5;241;43m.\u001b[39;49m\u001b[43mextend\u001b[49m\n",
      "\u001b[0;31mAttributeError\u001b[0m: 'tuple' object has no attribute 'extend'"
     ]
    }
   ],
   "source": [
    "# We can't extend the existing structure\n",
    "our_tup.extend"
   ]
  },
  {
   "cell_type": "code",
   "execution_count": 75,
   "id": "8df44123-de79-427a-88ac-0efaa9103ee7",
   "metadata": {},
   "outputs": [],
   "source": [
    "# But we can overwrite it\n",
    "our_tup = (3, 7, None, \"abc\")"
   ]
  },
  {
   "cell_type": "code",
   "execution_count": 76,
   "id": "d260457e-0c8b-4d93-abb4-f9dafd614013",
   "metadata": {},
   "outputs": [
    {
     "data": {
      "text/plain": [
       "(3, 7, None, 'abc')"
      ]
     },
     "execution_count": 76,
     "metadata": {},
     "output_type": "execute_result"
    }
   ],
   "source": [
    "our_tup"
   ]
  },
  {
   "cell_type": "code",
   "execution_count": 77,
   "id": "3886d079-f83f-4f24-9050-9e737f1f75d7",
   "metadata": {},
   "outputs": [
    {
     "data": {
      "text/plain": [
       "(3, 7, None, 'abc', 1, 2, 3)"
      ]
     },
     "execution_count": 77,
     "metadata": {},
     "output_type": "execute_result"
    }
   ],
   "source": [
    "our_tup + (1, 2, 3)"
   ]
  },
  {
   "cell_type": "markdown",
   "id": "c486b431-5867-4994-8e2b-300b01318b1e",
   "metadata": {},
   "source": [
    "## Sets\n",
    "Unique set of elements, unordered datastructure.\n",
    "<https://docs.python.org/3/library/stdtypes.html#set>"
   ]
  },
  {
   "cell_type": "code",
   "execution_count": 81,
   "id": "a54a8316-cea0-4386-b73d-7737e284f5ea",
   "metadata": {},
   "outputs": [
    {
     "name": "stdout",
     "output_type": "stream",
     "text": [
      "{'Erik', 'Gustav', 'Kalle'}\n"
     ]
    }
   ],
   "source": [
    "our_set = { \"Kalle\", \"Gustav\", \"Erik\" }\n",
    "print(our_set)"
   ]
  },
  {
   "cell_type": "code",
   "execution_count": 82,
   "id": "83f75d3e-0a98-49bc-809d-a92eacf1dc1d",
   "metadata": {},
   "outputs": [
    {
     "name": "stdout",
     "output_type": "stream",
     "text": [
      "{0, 2, 'Kalle', None}\n"
     ]
    }
   ],
   "source": [
    "other_set = { 0, None, \"Kalle\", 2, 0 }\n",
    "print(other_set)"
   ]
  },
  {
   "cell_type": "code",
   "execution_count": 83,
   "id": "3e596ce2-f4f0-451f-96c3-e4f89ca1d401",
   "metadata": {},
   "outputs": [
    {
     "data": {
      "text/plain": [
       "{'Kalle'}"
      ]
     },
     "execution_count": 83,
     "metadata": {},
     "output_type": "execute_result"
    }
   ],
   "source": [
    "other_set & our_set"
   ]
  },
  {
   "cell_type": "code",
   "execution_count": 84,
   "id": "889e4e6a-32d5-42b7-bfde-aa6b7caa67ca",
   "metadata": {},
   "outputs": [
    {
     "data": {
      "text/plain": [
       "{0, 2, 'Erik', 'Gustav', 'Kalle', None}"
      ]
     },
     "execution_count": 84,
     "metadata": {},
     "output_type": "execute_result"
    }
   ],
   "source": [
    "our_set | other_set"
   ]
  },
  {
   "cell_type": "code",
   "execution_count": 85,
   "id": "55a345b7-7ceb-43d2-bc91-5e0b1124d914",
   "metadata": {},
   "outputs": [
    {
     "data": {
      "text/plain": [
       "{'Erik', 'Gustav'}"
      ]
     },
     "execution_count": 85,
     "metadata": {},
     "output_type": "execute_result"
    }
   ],
   "source": [
    "our_set - other_set"
   ]
  },
  {
   "cell_type": "code",
   "execution_count": 86,
   "id": "0582e8e8-83a7-48d8-bc0d-28af2a01f43f",
   "metadata": {},
   "outputs": [
    {
     "data": {
      "text/plain": [
       "True"
      ]
     },
     "execution_count": 86,
     "metadata": {},
     "output_type": "execute_result"
    }
   ],
   "source": [
    "\"Gustav\" in our_set"
   ]
  },
  {
   "cell_type": "code",
   "execution_count": 87,
   "id": "e68173c3-e3ab-443b-b03f-e716f5f79696",
   "metadata": {},
   "outputs": [
    {
     "data": {
      "text/plain": [
       "False"
      ]
     },
     "execution_count": 87,
     "metadata": {},
     "output_type": "execute_result"
    }
   ],
   "source": [
    "\"Gustav\" in other_set"
   ]
  },
  {
   "cell_type": "markdown",
   "id": "ce8f6adc-8aeb-4f46-8ac5-1e3314653581",
   "metadata": {},
   "source": [
    "## Quick comprehension demo\n",
    "A comprehension creates a new datastructure by looping another on the fly."
   ]
  },
  {
   "cell_type": "code",
   "execution_count": 93,
   "id": "eff1adbe-ca06-428c-982e-ad50068b561f",
   "metadata": {},
   "outputs": [
    {
     "name": "stdout",
     "output_type": "stream",
     "text": [
      "(1, 3, 7, None, 'abc')\n",
      "[1, 3, 7]\n"
     ]
    }
   ],
   "source": [
    "# Regular loop, create a list with all whole numbers\n",
    "num_list = []\n",
    "for element in our_tup:\n",
    "    if isinstance(element, int):\n",
    "        num_list.append(element)\n",
    "\n",
    "print(our_tup)\n",
    "print(num_list)"
   ]
  },
  {
   "cell_type": "code",
   "execution_count": 95,
   "id": "f2c7b538-b42d-4b88-adcf-c0ca0904bb9b",
   "metadata": {},
   "outputs": [
    {
     "name": "stdout",
     "output_type": "stream",
     "text": [
      "[1, 3, 7]\n"
     ]
    }
   ],
   "source": [
    "# Do the same with list-comp.\n",
    "\n",
    "num_list = [element for element in our_tup if isinstance(element, int)]\n",
    "print(num_list)"
   ]
  },
  {
   "cell_type": "code",
   "execution_count": 101,
   "id": "4c261ee1-f818-47bb-a4b6-922ad1b6d095",
   "metadata": {},
   "outputs": [
    {
     "name": "stdout",
     "output_type": "stream",
     "text": [
      "{'name': 'Ada Lovelace'}\n"
     ]
    }
   ],
   "source": [
    "# Dict comprehension\n",
    "dict_name = { key: value for key, value in my_dictionary.items() if key == \"name\" }\n",
    "print(dict_name)"
   ]
  },
  {
   "cell_type": "code",
   "execution_count": 102,
   "id": "937a35ec-aa4b-4c85-a3f9-0aeddd00e50e",
   "metadata": {},
   "outputs": [
    {
     "name": "stdout",
     "output_type": "stream",
     "text": [
      "{'name': 'Ada Lovelace', 'born_year': 1815}\n"
     ]
    }
   ],
   "source": [
    "# Dict comprehension\n",
    "extract_keys = {\"name\", \"born_year\"}\n",
    "dict_name = { \n",
    "    key: value \n",
    "    for key, value in my_dictionary.items()\n",
    "    if key in extract_keys \n",
    "}\n",
    "print(dict_name)"
   ]
  },
  {
   "cell_type": "markdown",
   "id": "88e5ebc1-1b77-4c2a-8bfc-9e00ec4ce2ac",
   "metadata": {},
   "source": [
    "## None values\n",
    "None is the abscense of a value"
   ]
  },
  {
   "cell_type": "code",
   "execution_count": 103,
   "id": "5e9462e0-75ef-4cfd-a848-547ac446f757",
   "metadata": {},
   "outputs": [
    {
     "data": {
      "text/plain": [
       "True"
      ]
     },
     "execution_count": 103,
     "metadata": {},
     "output_type": "execute_result"
    }
   ],
   "source": [
    "# None is always a reference to the same object\n",
    "no_value = None\n",
    "other_empty_var = None\n",
    "no_value is other_empty_var"
   ]
  },
  {
   "cell_type": "code",
   "execution_count": 104,
   "id": "e4257961-c321-4a42-9745-a1caecf2d3c2",
   "metadata": {},
   "outputs": [
    {
     "name": "stdout",
     "output_type": "stream",
     "text": [
      "We didn't get anything back\n"
     ]
    }
   ],
   "source": [
    "if no_value is None:\n",
    "    print(\"We didn't get anything back\")"
   ]
  },
  {
   "cell_type": "code",
   "execution_count": 105,
   "id": "03870c2a-9508-4ed8-a277-3276f13ec3ea",
   "metadata": {},
   "outputs": [
    {
     "data": {
      "text/plain": [
       "False"
      ]
     },
     "execution_count": 105,
     "metadata": {},
     "output_type": "execute_result"
    }
   ],
   "source": [
    "other_empty_var = []\n",
    "other_empty_var is None"
   ]
  },
  {
   "cell_type": "code",
   "execution_count": 107,
   "id": "ed55fc32-0a34-455d-b061-3c3f450d8f96",
   "metadata": {},
   "outputs": [
    {
     "name": "stdout",
     "output_type": "stream",
     "text": [
      "The varible has some kind of value\n"
     ]
    }
   ],
   "source": [
    "if other_empty_var is None:\n",
    "    print(\"We didn't get anything back\")\n",
    "elif other_empty_var is not None:\n",
    "    print(\"The varible has some kind of value\")"
   ]
  },
  {
   "cell_type": "code",
   "execution_count": 110,
   "id": "88e536be-2ec3-4dad-8da0-988a4549e307",
   "metadata": {},
   "outputs": [],
   "source": [
    "# Type-annotated none\n",
    "def empty() -> None: pass\n",
    "no_value: None = empty()"
   ]
  },
  {
   "cell_type": "code",
   "execution_count": 111,
   "id": "6b2c3c37-09fa-4c86-9b47-f0e8520e6a3d",
   "metadata": {},
   "outputs": [
    {
     "name": "stdout",
     "output_type": "stream",
     "text": [
      "<class 'NoneType'>\n",
      "None\n"
     ]
    }
   ],
   "source": [
    "print(type(no_value))\n",
    "print(no_value)"
   ]
  },
  {
   "cell_type": "code",
   "execution_count": 118,
   "id": "78b15923-dd1b-43cd-883a-a63391e037bb",
   "metadata": {},
   "outputs": [],
   "source": [
    "# Explicit None with strict types.\n",
    "from typing import Optional\n",
    "\n",
    "# <= 3.9 Syntax\n",
    "def maybe_none(arg: int) -> Optional[int]:\n",
    "    if arg > 1:\n",
    "        return arg\n",
    "\n",
    "# >= 3.10 type annotations syntax\n",
    "def maybe_none(arg: int) -> int | None:\n",
    "    if arg > 1:\n",
    "        return arg"
   ]
  },
  {
   "cell_type": "code",
   "execution_count": 115,
   "id": "20704584-bfce-4d48-bc44-88d61eccb299",
   "metadata": {},
   "outputs": [
    {
     "name": "stdout",
     "output_type": "stream",
     "text": [
      "None\n"
     ]
    }
   ],
   "source": [
    "print(maybe_none(0))"
   ]
  },
  {
   "cell_type": "code",
   "execution_count": 117,
   "id": "ba67d47e-5e0d-41ad-980f-d9a660680486",
   "metadata": {},
   "outputs": [
    {
     "name": "stdout",
     "output_type": "stream",
     "text": [
      "2\n"
     ]
    }
   ],
   "source": [
    "print(maybe_none(2))"
   ]
  },
  {
   "cell_type": "markdown",
   "id": "e10c4a7b-75dc-40b8-862f-b96775085610",
   "metadata": {},
   "source": [
    "## F-strings\n",
    "Format strings with values using f-strings"
   ]
  },
  {
   "cell_type": "code",
   "execution_count": 121,
   "id": "d64ec4cc-8f78-415f-ba23-f73036a0b5f3",
   "metadata": {},
   "outputs": [
    {
     "data": {
      "text/plain": [
       "'1 + 1 = 2'"
      ]
     },
     "execution_count": 121,
     "metadata": {},
     "output_type": "execute_result"
    }
   ],
   "source": [
    "f\"1 + 1 = {1+1}\""
   ]
  },
  {
   "cell_type": "code",
   "execution_count": 124,
   "id": "1a2a1e2e-543b-4d60-be04-b8a59adbf2e1",
   "metadata": {},
   "outputs": [
    {
     "name": "stdout",
     "output_type": "stream",
     "text": [
      "Your password is 6 characters long, min is 8 characters\n"
     ]
    }
   ],
   "source": [
    "password = \"abc123\"\n",
    "if len(password) < 8:\n",
    "    print(f\"Your password is {len(password)} characters long, min is 8 characters\")\n",
    "else:\n",
    "    print(\"Password accepted\")"
   ]
  },
  {
   "cell_type": "code",
   "execution_count": 125,
   "id": "35dc005a-7dd8-49dc-b10b-6b346c02e52e",
   "metadata": {},
   "outputs": [
    {
     "name": "stdin",
     "output_type": "stream",
     "text": [
      " abcd12345\n"
     ]
    },
    {
     "name": "stdout",
     "output_type": "stream",
     "text": [
      "Password accepted\n"
     ]
    }
   ],
   "source": [
    "# Get password via terminal\n",
    "password = input()\n",
    "if len(password) < 8:\n",
    "    print(f\"Your password is {len(password)} characters long, min is 8 characters\")\n",
    "else:\n",
    "    print(\"Password accepted\")"
   ]
  },
  {
   "cell_type": "markdown",
   "id": "0f148780-2ca7-430e-b2f5-af43314e288b",
   "metadata": {},
   "source": [
    "## Functions and tests\n"
   ]
  },
  {
   "cell_type": "code",
   "execution_count": 126,
   "id": "0664e76c-fc76-4802-9863-812d87176734",
   "metadata": {},
   "outputs": [],
   "source": [
    "def greet_someone(name, location):\n",
    "    return f\"Hello {name}, welcome to {location}\""
   ]
  },
  {
   "cell_type": "code",
   "execution_count": 128,
   "id": "4297a226-53fc-48da-b7d8-9482af81cd89",
   "metadata": {},
   "outputs": [
    {
     "data": {
      "text/plain": [
       "'Hello Alex, welcome to Gothenburg'"
      ]
     },
     "execution_count": 128,
     "metadata": {},
     "output_type": "execute_result"
    }
   ],
   "source": [
    "greetings = (\n",
    "    (\"Alex\", \"Gothenburg\"),\n",
    "    (\"Åsa\", \"Linköping\"),   \n",
    ")\n",
    "greet_someone(greetings[0][0], greetings[0][1])"
   ]
  },
  {
   "cell_type": "code",
   "execution_count": 129,
   "id": "51710cf1-3953-4f2d-8c1f-eff0cdcdcaff",
   "metadata": {},
   "outputs": [
    {
     "data": {
      "text/plain": [
       "'Hello Alex, welcome to Gothenburg'"
      ]
     },
     "execution_count": 129,
     "metadata": {},
     "output_type": "execute_result"
    }
   ],
   "source": [
    "greet_someone(*greetings[0])"
   ]
  },
  {
   "cell_type": "code",
   "execution_count": 131,
   "id": "6880c3ad-592a-4cec-a88d-a5311031efca",
   "metadata": {},
   "outputs": [
    {
     "name": "stdout",
     "output_type": "stream",
     "text": [
      "Hello Alex, welcome to Gothenburg\n",
      "Hello Åsa, welcome to Linköping\n"
     ]
    }
   ],
   "source": [
    "for greeting in greetings:\n",
    "    print(greet_someone(*greeting))"
   ]
  },
  {
   "cell_type": "code",
   "execution_count": 132,
   "id": "b5947942-27d2-4b8c-a446-3066b295e25d",
   "metadata": {},
   "outputs": [
    {
     "data": {
      "text/plain": [
       "'Hello Oskar, welcome to Vilhelmina'"
      ]
     },
     "execution_count": 132,
     "metadata": {},
     "output_type": "execute_result"
    }
   ],
   "source": [
    "greet_someone(location=\"Vilhelmina\", name=\"Oskar\")"
   ]
  },
  {
   "cell_type": "code",
   "execution_count": 133,
   "id": "69482006-7317-41cf-b3fb-83a592170cb0",
   "metadata": {},
   "outputs": [
    {
     "data": {
      "text/plain": [
       "'Hello Hans-Göran, welcome to Malmö'"
      ]
     },
     "execution_count": 133,
     "metadata": {},
     "output_type": "execute_result"
    }
   ],
   "source": [
    "greeting_dict = {\n",
    "    \"location\": \"Malmö\",\n",
    "    \"name\": \"Hans-Göran\",\n",
    "}\n",
    "greet_someone(**greeting_dict)"
   ]
  },
  {
   "cell_type": "code",
   "execution_count": 140,
   "id": "e8165e62-2adf-4c1e-ac5b-f795db4f4129",
   "metadata": {},
   "outputs": [
    {
     "ename": "AssertionError",
     "evalue": "",
     "output_type": "error",
     "traceback": [
      "\u001b[0;31m---------------------------------------------------------------------------\u001b[0m",
      "\u001b[0;31mAssertionError\u001b[0m                            Traceback (most recent call last)",
      "Input \u001b[0;32mIn [140]\u001b[0m, in \u001b[0;36m<cell line: 2>\u001b[0;34m()\u001b[0m\n\u001b[1;32m      1\u001b[0m \u001b[38;5;66;03m# Failing test, will raise AssertionError\u001b[39;00m\n\u001b[0;32m----> 2\u001b[0m \u001b[38;5;28;01massert\u001b[39;00m greet_someone(\u001b[38;5;124m\"\u001b[39m\u001b[38;5;124mAlex\u001b[39m\u001b[38;5;124m\"\u001b[39m, \u001b[38;5;124m\"\u001b[39m\u001b[38;5;124mGothenburg\u001b[39m\u001b[38;5;124m\"\u001b[39m) \u001b[38;5;241m==\u001b[39m \u001b[38;5;124m\"\u001b[39m\u001b[38;5;124mKalle Anka\u001b[39m\u001b[38;5;124m\"\u001b[39m\n\u001b[1;32m      3\u001b[0m \u001b[38;5;28mprint\u001b[39m(\u001b[38;5;124m\"\u001b[39m\u001b[38;5;124mWill it reach this code?\u001b[39m\u001b[38;5;124m\"\u001b[39m)\n",
      "\u001b[0;31mAssertionError\u001b[0m: "
     ]
    }
   ],
   "source": [
    "# Failing test, will raise AssertionError\n",
    "assert greet_someone(\"Alex\", \"Gothenburg\") == \"Kalle Anka\"\n",
    "print(\"Will it reach this code?\")"
   ]
  },
  {
   "cell_type": "code",
   "execution_count": 139,
   "id": "64880612-6a83-4f00-94d7-b1b4ab6e62de",
   "metadata": {},
   "outputs": [
    {
     "ename": "AssertionError",
     "evalue": "Failed greeting test",
     "output_type": "error",
     "traceback": [
      "\u001b[0;31m---------------------------------------------------------------------------\u001b[0m",
      "\u001b[0;31mAssertionError\u001b[0m                            Traceback (most recent call last)",
      "Input \u001b[0;32mIn [139]\u001b[0m, in \u001b[0;36m<cell line: 2>\u001b[0;34m()\u001b[0m\n\u001b[1;32m      1\u001b[0m \u001b[38;5;66;03m# Failing test, will raise AssertionError with a message: \"Failed greeting test\"\u001b[39;00m\n\u001b[0;32m----> 2\u001b[0m \u001b[38;5;28;01massert\u001b[39;00m greet_someone(\u001b[38;5;124m\"\u001b[39m\u001b[38;5;124mAlex\u001b[39m\u001b[38;5;124m\"\u001b[39m, \u001b[38;5;124m\"\u001b[39m\u001b[38;5;124mGothenburg\u001b[39m\u001b[38;5;124m\"\u001b[39m) \u001b[38;5;241m==\u001b[39m \u001b[38;5;124m\"\u001b[39m\u001b[38;5;124mKalle Anka\u001b[39m\u001b[38;5;124m\"\u001b[39m, \u001b[38;5;124m\"\u001b[39m\u001b[38;5;124mFailed greeting test\u001b[39m\u001b[38;5;124m\"\u001b[39m\n\u001b[1;32m      3\u001b[0m \u001b[38;5;28mprint\u001b[39m(\u001b[38;5;124m\"\u001b[39m\u001b[38;5;124mWill it reach this code?\u001b[39m\u001b[38;5;124m\"\u001b[39m)\n",
      "\u001b[0;31mAssertionError\u001b[0m: Failed greeting test"
     ]
    }
   ],
   "source": [
    "# Failing test, will raise AssertionError with a message: \"Failed greeting test\"\n",
    "assert greet_someone(\"Alex\", \"Gothenburg\") == \"Kalle Anka\", \"Failed greeting test\"\n",
    "print(\"Will it reach this code?\")"
   ]
  },
  {
   "cell_type": "code",
   "execution_count": 145,
   "id": "b6cb4da1-d4d0-4a2d-8215-0778cb828abe",
   "metadata": {},
   "outputs": [
    {
     "name": "stdout",
     "output_type": "stream",
     "text": [
      "Will it reach this code?\n"
     ]
    }
   ],
   "source": [
    "# Passing test\n",
    "assert greet_someone(\"Alex\", \"Gothenburg\") == \"Hello Alex, welcome to Gothenburg\"\n",
    "assert \"Hello Åsa, welcome to Linköping\" == greet_someone(\"Åsa\", \"Linköping\") \n",
    "\n",
    "print(\"Will it reach this code?\")"
   ]
  },
  {
   "cell_type": "code",
   "execution_count": 152,
   "id": "b3cf1d3e-6616-44be-b97a-554291052658",
   "metadata": {},
   "outputs": [],
   "source": [
    "\n",
    "def test_greet_someone():\n",
    "    \"A function to test the greet_someone() function\"\n",
    "    assert greet_someone(\"Alex\", \"Gothenburg\") == \"Hello Alex, welcome to Gothenburg\"\n",
    "    assert \"Hello Åsa, welcome to Linköping\" == greet_someone(\"Åsa\", \"Linköping\")\n",
    "\n",
    "    "
   ]
  },
  {
   "cell_type": "code",
   "execution_count": 148,
   "id": "5934afaa-cf7b-428f-83ac-9c56379557a1",
   "metadata": {},
   "outputs": [
    {
     "name": "stdout",
     "output_type": "stream",
     "text": [
      "Help on function test_greet_someone in module __main__:\n",
      "\n",
      "test_greet_someone()\n",
      "    A function to test the greet_someone() function\n",
      "\n"
     ]
    }
   ],
   "source": [
    "help(test_greet_someone)"
   ]
  },
  {
   "cell_type": "code",
   "execution_count": 153,
   "id": "ffc03342-0511-4ccb-bade-0de06c472d9a",
   "metadata": {},
   "outputs": [],
   "source": [
    "test_greet_someone()"
   ]
  },
  {
   "cell_type": "markdown",
   "id": "085b2205-2eeb-4d44-abab-eebae5d6faf8",
   "metadata": {},
   "source": [
    "# Lecture 4\n",
    "\n",
    "## Classes"
   ]
  },
  {
   "cell_type": "code",
   "execution_count": 168,
   "id": "665dd74e-e34f-4f19-954c-5eeb4a4d8819",
   "metadata": {},
   "outputs": [],
   "source": [
    "# A basic class \n",
    "class Student:\n",
    "    # Initializer, runs when calling Student() to create new obj\n",
    "    # Self is injected automatically\n",
    "    def __init__(self, name, age):\n",
    "        # Setup our values\n",
    "        self.name = name\n",
    "        self.age = age\n",
    "\n",
    "    # Greeter method\n",
    "    def greet(self):\n",
    "        return f\"Hello {self.name}\""
   ]
  },
  {
   "cell_type": "code",
   "execution_count": 169,
   "id": "70116267-47e1-488f-8b05-a7357a4cdd14",
   "metadata": {},
   "outputs": [],
   "source": [
    "# Create object instances of the class\n",
    "stud_obj_1 = Student(\"Karl Gustav\", 90)\n",
    "stud_obj_2 = Student(\"Karl Philip\", 40)"
   ]
  },
  {
   "cell_type": "code",
   "execution_count": 170,
   "id": "a40c5f6b-43ed-4578-a1ec-70b648f79129",
   "metadata": {},
   "outputs": [
    {
     "name": "stdout",
     "output_type": "stream",
     "text": [
      "40\n"
     ]
    }
   ],
   "source": [
    "print(stud_obj_2.age)"
   ]
  },
  {
   "cell_type": "code",
   "execution_count": 171,
   "id": "5a9395fb-3936-4e19-921b-12d8b57f6262",
   "metadata": {},
   "outputs": [
    {
     "name": "stdout",
     "output_type": "stream",
     "text": [
      "90\n"
     ]
    }
   ],
   "source": [
    "print(stud_obj_1.age)"
   ]
  },
  {
   "cell_type": "code",
   "execution_count": 172,
   "id": "786cbe72-e325-45fe-adc1-e17b92292eff",
   "metadata": {},
   "outputs": [
    {
     "name": "stdout",
     "output_type": "stream",
     "text": [
      "Hello Karl Gustav\n"
     ]
    }
   ],
   "source": [
    "print(stud_obj_1.greet())"
   ]
  },
  {
   "cell_type": "markdown",
   "id": "1c00f86c-90af-4772-9d67-37261ce751b1",
   "metadata": {},
   "source": [
    "## Exceptions, try-except-finally"
   ]
  },
  {
   "cell_type": "code",
   "execution_count": 180,
   "id": "a130a4dd-5cad-4c82-b403-5c4ad666e2d4",
   "metadata": {},
   "outputs": [
    {
     "name": "stdout",
     "output_type": "stream",
     "text": [
      "Caught error\n",
      "Our error message\n",
      "Do our cleaning\n",
      "Errornous code completed\n"
     ]
    }
   ],
   "source": [
    "cleanup_error = print\n",
    "\n",
    "try:\n",
    "  # Will always error\n",
    "  assert False, \"Our error message\"\n",
    "  never_runs()  # This code won't be raised\n",
    "except AssertionError as err:\n",
    "  # Will only run on errors\n",
    "  print(\"Caught error\")\n",
    "  print(err)\n",
    "finally:\n",
    "  # Will always run\n",
    "  cleanup_error(\"Do our cleaning\")\n",
    "\n",
    "print(\"Errornous code completed\")"
   ]
  },
  {
   "cell_type": "markdown",
   "id": "93ef4380-ad42-4625-be8c-b1a5a7510b04",
   "metadata": {},
   "source": [
    "### Re-raise the error\n",
    "When handling the error, we can elect to keep it and raise again"
   ]
  },
  {
   "cell_type": "code",
   "execution_count": 181,
   "id": "c5f76ff3-1806-4661-84a5-5edd98eb9b0b",
   "metadata": {},
   "outputs": [
    {
     "name": "stdout",
     "output_type": "stream",
     "text": [
      "Caught error\n",
      "Our error message\n",
      "Do our cleaning\n"
     ]
    },
    {
     "ename": "AssertionError",
     "evalue": "Our error message",
     "output_type": "error",
     "traceback": [
      "\u001b[0;31m---------------------------------------------------------------------------\u001b[0m",
      "\u001b[0;31mAssertionError\u001b[0m                            Traceback (most recent call last)",
      "Input \u001b[0;32mIn [181]\u001b[0m, in \u001b[0;36m<cell line: 3>\u001b[0;34m()\u001b[0m\n\u001b[1;32m      1\u001b[0m cleanup_error \u001b[38;5;241m=\u001b[39m \u001b[38;5;28mprint\u001b[39m\n\u001b[1;32m      3\u001b[0m \u001b[38;5;28;01mtry\u001b[39;00m:\n\u001b[1;32m      4\u001b[0m   \u001b[38;5;66;03m# Will always error\u001b[39;00m\n\u001b[0;32m----> 5\u001b[0m   \u001b[38;5;28;01massert\u001b[39;00m \u001b[38;5;28;01mFalse\u001b[39;00m, \u001b[38;5;124m\"\u001b[39m\u001b[38;5;124mOur error message\u001b[39m\u001b[38;5;124m\"\u001b[39m\n\u001b[1;32m      6\u001b[0m   never_runs()  \u001b[38;5;66;03m# This code won't be raised\u001b[39;00m\n\u001b[1;32m      7\u001b[0m \u001b[38;5;28;01mexcept\u001b[39;00m \u001b[38;5;167;01mAssertionError\u001b[39;00m \u001b[38;5;28;01mas\u001b[39;00m err:\n\u001b[1;32m      8\u001b[0m   \u001b[38;5;66;03m# Will only run on errors\u001b[39;00m\n",
      "\u001b[0;31mAssertionError\u001b[0m: Our error message"
     ]
    }
   ],
   "source": [
    "cleanup_error = print\n",
    "\n",
    "try:\n",
    "  # Will always error\n",
    "  assert False, \"Our error message\"\n",
    "  never_runs()  # This code won't be raised\n",
    "except AssertionError as err:\n",
    "  # Will only run on errors\n",
    "  print(\"Caught error\")\n",
    "  print(err)\n",
    "  # These two lines are the same\n",
    "  raise\n",
    "  # raise err\n",
    "finally:\n",
    "  # Will always run\n",
    "  cleanup_error(\"Do our cleaning\")\n",
    "\n",
    "print(\"Errornous code completed\")"
   ]
  },
  {
   "cell_type": "markdown",
   "id": "eb32a017-7ef4-43ad-9701-1df7b8d3b758",
   "metadata": {},
   "source": [
    "Create a function which manually raises an error"
   ]
  },
  {
   "cell_type": "code",
   "execution_count": 182,
   "id": "b49f2c25-1c55-445b-9561-89f137d8f92c",
   "metadata": {},
   "outputs": [
    {
     "name": "stdout",
     "output_type": "stream",
     "text": [
      "1\n"
     ]
    }
   ],
   "source": [
    "def is_positive(x):\n",
    "    if x < 0: \n",
    "        raise ValueError(\"X must be positive\")\n",
    "    return x\n",
    "\n",
    "print(is_positive(1))"
   ]
  },
  {
   "cell_type": "code",
   "execution_count": 183,
   "id": "5cb64f65-c863-4204-87b0-51495730b508",
   "metadata": {},
   "outputs": [
    {
     "ename": "ValueError",
     "evalue": "X must be positive",
     "output_type": "error",
     "traceback": [
      "\u001b[0;31m---------------------------------------------------------------------------\u001b[0m",
      "\u001b[0;31mValueError\u001b[0m                                Traceback (most recent call last)",
      "Input \u001b[0;32mIn [183]\u001b[0m, in \u001b[0;36m<cell line: 1>\u001b[0;34m()\u001b[0m\n\u001b[0;32m----> 1\u001b[0m \u001b[38;5;28mprint\u001b[39m(\u001b[43mis_positive\u001b[49m\u001b[43m(\u001b[49m\u001b[38;5;241;43m-\u001b[39;49m\u001b[38;5;241;43m1\u001b[39;49m\u001b[43m)\u001b[49m)\n",
      "Input \u001b[0;32mIn [182]\u001b[0m, in \u001b[0;36mis_positive\u001b[0;34m(x)\u001b[0m\n\u001b[1;32m      1\u001b[0m \u001b[38;5;28;01mdef\u001b[39;00m \u001b[38;5;21mis_positive\u001b[39m(x):\n\u001b[1;32m      2\u001b[0m     \u001b[38;5;28;01mif\u001b[39;00m x \u001b[38;5;241m<\u001b[39m \u001b[38;5;241m0\u001b[39m: \n\u001b[0;32m----> 3\u001b[0m         \u001b[38;5;28;01mraise\u001b[39;00m \u001b[38;5;167;01mValueError\u001b[39;00m(\u001b[38;5;124m\"\u001b[39m\u001b[38;5;124mX must be positive\u001b[39m\u001b[38;5;124m\"\u001b[39m)\n\u001b[1;32m      4\u001b[0m     \u001b[38;5;28;01mreturn\u001b[39;00m x\n",
      "\u001b[0;31mValueError\u001b[0m: X must be positive"
     ]
    }
   ],
   "source": [
    "print(is_positive(-1))"
   ]
  },
  {
   "cell_type": "code",
   "execution_count": 185,
   "id": "8838a8a8-22fe-4456-a545-d908de5e5f5c",
   "metadata": {},
   "outputs": [
    {
     "name": "stdout",
     "output_type": "stream",
     "text": [
      "0\n"
     ]
    }
   ],
   "source": [
    "print(is_positive(0))"
   ]
  },
  {
   "cell_type": "code",
   "execution_count": 190,
   "id": "677f7ab3-a7d0-4c60-b683-39f028735418",
   "metadata": {},
   "outputs": [
    {
     "name": "stdout",
     "output_type": "stream",
     "text": [
      "This should be printed\n"
     ]
    }
   ],
   "source": [
    "try:\n",
    "    is_positive(-1)\n",
    "except ValueError as my_err:\n",
    "    # Value error is caught, and ignored in this case\n",
    "    pass\n",
    "\n",
    "print(\"This should be printed\")"
   ]
  },
  {
   "cell_type": "code",
   "execution_count": 199,
   "id": "91ebd075-813b-4e03-82f5-633931afc9b5",
   "metadata": {},
   "outputs": [
    {
     "name": "stdin",
     "output_type": "stream",
     "text": [
      " -122\n"
     ]
    },
    {
     "name": "stdout",
     "output_type": "stream",
     "text": [
      "X must be positive\n",
      "Please try again\n"
     ]
    },
    {
     "name": "stdin",
     "output_type": "stream",
     "text": [
      " -32134\n"
     ]
    },
    {
     "name": "stdout",
     "output_type": "stream",
     "text": [
      "X must be positive\n",
      "Please try again\n"
     ]
    },
    {
     "name": "stdin",
     "output_type": "stream",
     "text": [
      " 0\n"
     ]
    },
    {
     "name": "stdout",
     "output_type": "stream",
     "text": [
      "Congratulations on being a newborn!\n"
     ]
    }
   ],
   "source": [
    "user_age = None\n",
    "\n",
    "# Ask for the age, until it's no longer None\n",
    "while user_age is None:\n",
    "    try:\n",
    "        user_age = is_positive(int(input()))\n",
    "    except ValueError as err:\n",
    "        print(err)\n",
    "        print(\"Please try again\")\n",
    "\n",
    "if user_age == 0:\n",
    "    print(\"Congratulations on being a newborn!\")\n",
    "else:\n",
    "    print(f\"You are {user_age} years old!\")"
   ]
  },
  {
   "cell_type": "code",
   "execution_count": 200,
   "id": "565670d1-77df-47e5-a055-088f9f1bf63d",
   "metadata": {},
   "outputs": [
    {
     "name": "stdin",
     "output_type": "stream",
     "text": [
      " lkjasdfjkl\n"
     ]
    },
    {
     "name": "stdout",
     "output_type": "stream",
     "text": [
      "invalid literal for int() with base 10: 'lkjasdfjkl'\n",
      "Please try again\n"
     ]
    },
    {
     "name": "stdin",
     "output_type": "stream",
     "text": [
      " 10\n"
     ]
    },
    {
     "name": "stdout",
     "output_type": "stream",
     "text": [
      "You are 10 years old!\n"
     ]
    }
   ],
   "source": [
    "user_age = None\n",
    "\n",
    "# Ask for the age, until it's no longer None\n",
    "while user_age is None:\n",
    "    try:\n",
    "        user_age = is_positive(int(input()))\n",
    "    except ValueError as err:\n",
    "        print(err)\n",
    "        print(\"Please try again\")\n",
    "\n",
    "if user_age == 0:\n",
    "    print(\"Congratulations on being a newborn!\")\n",
    "else:\n",
    "    print(f\"You are {user_age} years old!\")"
   ]
  },
  {
   "cell_type": "code",
   "execution_count": 201,
   "id": "edbb7d73-5c84-4e72-a04b-d5bdbd737faf",
   "metadata": {},
   "outputs": [
    {
     "ename": "ValueError",
     "evalue": "invalid literal for int() with base 10: 'kldasfjkla'",
     "output_type": "error",
     "traceback": [
      "\u001b[0;31m---------------------------------------------------------------------------\u001b[0m",
      "\u001b[0;31mValueError\u001b[0m                                Traceback (most recent call last)",
      "Input \u001b[0;32mIn [201]\u001b[0m, in \u001b[0;36m<cell line: 1>\u001b[0;34m()\u001b[0m\n\u001b[0;32m----> 1\u001b[0m \u001b[38;5;28;43mint\u001b[39;49m\u001b[43m(\u001b[49m\u001b[38;5;124;43m\"\u001b[39;49m\u001b[38;5;124;43mkldasfjkla\u001b[39;49m\u001b[38;5;124;43m\"\u001b[39;49m\u001b[43m)\u001b[49m\n",
      "\u001b[0;31mValueError\u001b[0m: invalid literal for int() with base 10: 'kldasfjkla'"
     ]
    }
   ],
   "source": [
    "int(\"kldasfjkla\")"
   ]
  },
  {
   "cell_type": "markdown",
   "id": "6ac4c924-9556-4a4f-9466-e78fc160d704",
   "metadata": {},
   "source": [
    "We can create our own class, which extends ValueError, with it's own name. In this case we keep the implementation the same (pass)."
   ]
  },
  {
   "cell_type": "code",
   "execution_count": 203,
   "id": "a82777ac-65d6-4c1b-83d2-74774a2217fe",
   "metadata": {},
   "outputs": [],
   "source": [
    "class NotPositiveError(ValueError): pass"
   ]
  },
  {
   "cell_type": "code",
   "execution_count": 204,
   "id": "7b1465d1-eacd-499e-a11e-f2ecfeb629a4",
   "metadata": {},
   "outputs": [],
   "source": [
    "def is_positive_custom_error(x):\n",
    "    if x < 0: \n",
    "        raise NotPositiveError(\"X must be positive\")\n",
    "    return x"
   ]
  },
  {
   "cell_type": "code",
   "execution_count": 205,
   "id": "19686328-459b-4145-ac3a-6edbe7e838cf",
   "metadata": {},
   "outputs": [
    {
     "ename": "NotPositiveError",
     "evalue": "X must be positive",
     "output_type": "error",
     "traceback": [
      "\u001b[0;31m---------------------------------------------------------------------------\u001b[0m",
      "\u001b[0;31mNotPositiveError\u001b[0m                          Traceback (most recent call last)",
      "Input \u001b[0;32mIn [205]\u001b[0m, in \u001b[0;36m<cell line: 1>\u001b[0;34m()\u001b[0m\n\u001b[0;32m----> 1\u001b[0m \u001b[43mis_positive_custom_error\u001b[49m\u001b[43m(\u001b[49m\u001b[38;5;241;43m-\u001b[39;49m\u001b[38;5;241;43m1\u001b[39;49m\u001b[43m)\u001b[49m\n",
      "Input \u001b[0;32mIn [204]\u001b[0m, in \u001b[0;36mis_positive_custom_error\u001b[0;34m(x)\u001b[0m\n\u001b[1;32m      1\u001b[0m \u001b[38;5;28;01mdef\u001b[39;00m \u001b[38;5;21mis_positive_custom_error\u001b[39m(x):\n\u001b[1;32m      2\u001b[0m     \u001b[38;5;28;01mif\u001b[39;00m x \u001b[38;5;241m<\u001b[39m \u001b[38;5;241m0\u001b[39m: \n\u001b[0;32m----> 3\u001b[0m         \u001b[38;5;28;01mraise\u001b[39;00m NotPositiveError(\u001b[38;5;124m\"\u001b[39m\u001b[38;5;124mX must be positive\u001b[39m\u001b[38;5;124m\"\u001b[39m)\n\u001b[1;32m      4\u001b[0m     \u001b[38;5;28;01mreturn\u001b[39;00m x\n",
      "\u001b[0;31mNotPositiveError\u001b[0m: X must be positive"
     ]
    }
   ],
   "source": [
    "is_positive_custom_error(-1)"
   ]
  },
  {
   "cell_type": "markdown",
   "id": "23118a40-1b89-4984-9f3f-04bf2206964b",
   "metadata": {},
   "source": [
    "Use our custom error in the error handling"
   ]
  },
  {
   "cell_type": "code",
   "execution_count": 216,
   "id": "1f545af0-ed17-4771-9be5-7af459951e1e",
   "metadata": {},
   "outputs": [
    {
     "name": "stdin",
     "output_type": "stream",
     "text": [
      " -123\n"
     ]
    },
    {
     "name": "stdout",
     "output_type": "stream",
     "text": [
      "X must be positive\n",
      "Please try again\n"
     ]
    },
    {
     "name": "stdin",
     "output_type": "stream",
     "text": [
      " not a number\n"
     ]
    },
    {
     "name": "stdout",
     "output_type": "stream",
     "text": [
      "Data wasn't in the correct format\n",
      "Please enter a number to try again!\n"
     ]
    },
    {
     "name": "stdin",
     "output_type": "stream",
     "text": [
      " kljsdfa\n"
     ]
    },
    {
     "name": "stdout",
     "output_type": "stream",
     "text": [
      "Data wasn't in the correct format\n",
      "Please enter a number to try again!\n"
     ]
    },
    {
     "name": "stdin",
     "output_type": "stream",
     "text": [
      " -432\n"
     ]
    },
    {
     "name": "stdout",
     "output_type": "stream",
     "text": [
      "X must be positive\n",
      "Please try again\n"
     ]
    },
    {
     "name": "stdin",
     "output_type": "stream",
     "text": [
      " 10\n"
     ]
    },
    {
     "name": "stdout",
     "output_type": "stream",
     "text": [
      "You are 10 years old!\n"
     ]
    }
   ],
   "source": [
    "user_age = None\n",
    "\n",
    "# Ask for the age, until it's no longer None\n",
    "while user_age is None:\n",
    "    \n",
    "    try:\n",
    "        user_age = is_positive_custom_error(int(input()))\n",
    "                \n",
    "    # Use a more specific error type in this case\n",
    "    # Always put the most specific errors first, as they are matched in order\n",
    "    except NotPositiveError as err:\n",
    "        print(err)\n",
    "        print(\"Please try again\")\n",
    "        \n",
    "    # Will catch all ValueErrors, not caught by previous except blocks\n",
    "    except ValueError as err:\n",
    "        print(\"Data wasn't in the correct format\")\n",
    "        print(\"Please enter a number to try again!\")\n",
    "\n",
    "    \n",
    "\n",
    "if user_age == 0:\n",
    "    print(\"Congratulations on being a newborn!\")\n",
    "else:\n",
    "    print(f\"You are {user_age} years old!\")"
   ]
  },
  {
   "cell_type": "markdown",
   "id": "6346349a-5bc0-4403-87c6-cd1110ed90ed",
   "metadata": {},
   "source": [
    "## Imports example"
   ]
  },
  {
   "cell_type": "code",
   "execution_count": 218,
   "id": "4246ef78-da63-47d7-8e2e-9b89a6198b92",
   "metadata": {},
   "outputs": [
    {
     "name": "stdout",
     "output_type": "stream",
     "text": [
      "{\"name\": \"Kalle\", \"other\": null}\n"
     ]
    }
   ],
   "source": [
    "# Import entire module from standard library\n",
    "import json\n",
    "print(json.dumps(dict(name=\"Kalle\", other=None)))"
   ]
  },
  {
   "cell_type": "code",
   "execution_count": 220,
   "id": "fe3779d8-86cc-4df9-b2fd-95c64c04f759",
   "metadata": {},
   "outputs": [
    {
     "name": "stdout",
     "output_type": "stream",
     "text": [
      "{'name': 'Kalle', 'other': None}\n"
     ]
    }
   ],
   "source": [
    "print(\n",
    "    json.loads(\"\"\"{\"name\": \"Kalle\", \"other\": null}\"\"\")\n",
    ")"
   ]
  },
  {
   "cell_type": "code",
   "execution_count": null,
   "id": "6f199950-50bf-43ab-8e8d-a1bcbb7450bd",
   "metadata": {},
   "outputs": [],
   "source": []
  }
 ],
 "metadata": {
  "kernelspec": {
   "display_name": "Python 3 (ipykernel)",
   "language": "python",
   "name": "python3"
  },
  "language_info": {
   "codemirror_mode": {
    "name": "ipython",
    "version": 3
   },
   "file_extension": ".py",
   "mimetype": "text/x-python",
   "name": "python",
   "nbconvert_exporter": "python",
   "pygments_lexer": "ipython3",
   "version": "3.10.3"
  }
 },
 "nbformat": 4,
 "nbformat_minor": 5
}
