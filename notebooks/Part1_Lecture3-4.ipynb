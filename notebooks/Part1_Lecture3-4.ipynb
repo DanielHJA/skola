{
 "cells": [
  {
   "cell_type": "markdown",
   "id": "b8d555d0-8f55-4b35-9e71-f0f27f3cad60",
   "metadata": {},
   "source": [
    "# Common Data Structures\n",
    "- List\n",
    "- Dict\n",
    "- Set\n",
    "- Tuple"
   ]
  },
  {
   "cell_type": "markdown",
   "id": "b2b072a4-e6f9-4348-92a4-c5ff342780ac",
   "metadata": {},
   "source": [
    "---\n",
    "\n",
    "# List\n",
    "\n",
    "A list is created using `[]`, this will create an empty list, the list can also be initiated with the `list`-function, `list()`\n",
    "\n",
    "<https://www.learnbyexample.org/python-list/>"
   ]
  },
  {
   "cell_type": "code",
   "execution_count": 12,
   "id": "193769b0-918e-44f3-b9ae-7417a92a9b25",
   "metadata": {},
   "outputs": [],
   "source": [
    "a_list = []\n",
    "also_a_list = list()"
   ]
  },
  {
   "cell_type": "markdown",
   "id": "db26b3aa-9613-4a37-9b43-cf07b4640f3d",
   "metadata": {},
   "source": [
    "A list can be initiated with members. List items are separated by a `,` and can be other variables of any type, even another list."
   ]
  },
  {
   "cell_type": "code",
   "execution_count": 13,
   "id": "8487224c-6a24-4cc4-908d-74e257672af4",
   "metadata": {},
   "outputs": [
    {
     "name": "stdout",
     "output_type": "stream",
     "text": [
      "[1, True, None, [], 'string value']\n"
     ]
    }
   ],
   "source": [
    "a_list = [ 1, True, None, also_a_list, \"string value\", ]\n",
    "print(a_list)"
   ]
  },
  {
   "cell_type": "markdown",
   "id": "f8b69a0a-40c2-4079-b5c1-8927aa595739",
   "metadata": {},
   "source": [
    "---"
   ]
  },
  {
   "cell_type": "markdown",
   "id": "ff5ab358-0173-418a-a386-d1de969e318a",
   "metadata": {},
   "source": [
    "# Indexing of list items\n",
    "Lists are 0 indexed, and items can be accesed via their index id using brackets `[idx]`"
   ]
  },
  {
   "cell_type": "code",
   "execution_count": 14,
   "id": "1bd4d7f8-a083-4ab5-9c6e-01d506c67c8f",
   "metadata": {},
   "outputs": [
    {
     "data": {
      "text/plain": [
       "1"
      ]
     },
     "execution_count": 14,
     "metadata": {},
     "output_type": "execute_result"
    }
   ],
   "source": [
    "a_list[0]"
   ]
  },
  {
   "cell_type": "markdown",
   "id": "907abd92-4439-402e-888c-9739ce2b0489",
   "metadata": {},
   "source": [
    "You can also use negative indicies to search the list from the back, starting with `-1`"
   ]
  },
  {
   "cell_type": "code",
   "execution_count": 15,
   "id": "a288b25d-6fb3-47fc-b44f-00faea6b3a78",
   "metadata": {},
   "outputs": [
    {
     "data": {
      "text/plain": [
       "'string value'"
      ]
     },
     "execution_count": 15,
     "metadata": {},
     "output_type": "execute_result"
    }
   ],
   "source": [
    "a_list[-1]"
   ]
  },
  {
   "cell_type": "markdown",
   "id": "5b0200af-59bc-4443-915c-a495b43213f3",
   "metadata": {},
   "source": [
    "---\n",
    "\n",
    "Lists can also be sliced using a similar syntax `a_list[ start : stop : step ]`  \n",
    "<https://www.learnbyexample.org/python-list-slicing/>"
   ]
  },
  {
   "cell_type": "code",
   "execution_count": 21,
   "id": "cff29b54-9b1f-4c92-8e75-4a7e43338420",
   "metadata": {},
   "outputs": [
    {
     "data": {
      "text/plain": [
       "[True, []]"
      ]
     },
     "execution_count": 21,
     "metadata": {},
     "output_type": "execute_result"
    }
   ],
   "source": [
    "a_list[1:5:2]"
   ]
  },
  {
   "cell_type": "code",
   "execution_count": 22,
   "id": "ac1ceea9-c2f9-45a7-8aa1-074d72fde28a",
   "metadata": {},
   "outputs": [
    {
     "data": {
      "text/plain": [
       "[True, None, []]"
      ]
     },
     "execution_count": 22,
     "metadata": {},
     "output_type": "execute_result"
    }
   ],
   "source": [
    "a_list[1:4]"
   ]
  },
  {
   "cell_type": "code",
   "execution_count": 24,
   "id": "8d546dff-e8d5-49ed-891f-770a7741aa67",
   "metadata": {},
   "outputs": [
    {
     "data": {
      "text/plain": [
       "[[]]"
      ]
     },
     "execution_count": 24,
     "metadata": {},
     "output_type": "execute_result"
    }
   ],
   "source": [
    "a_list[3:-1]"
   ]
  },
  {
   "cell_type": "code",
   "execution_count": 25,
   "id": "6406907c-4680-43f4-9a93-699a96d6bd41",
   "metadata": {},
   "outputs": [
    {
     "data": {
      "text/plain": [
       "[True, None, []]"
      ]
     },
     "execution_count": 25,
     "metadata": {},
     "output_type": "execute_result"
    }
   ],
   "source": [
    "a_list[1:-1]"
   ]
  },
  {
   "cell_type": "code",
   "execution_count": 26,
   "id": "c02310c5-ef6e-44cf-be31-e544002d404c",
   "metadata": {},
   "outputs": [
    {
     "data": {
      "text/plain": [
       "[1, True, None, [], 'string value', 0, 1, 2, 3, 4, 5, 6, 7, 8, 9]"
      ]
     },
     "execution_count": 26,
     "metadata": {},
     "output_type": "execute_result"
    }
   ],
   "source": [
    "# Combinde two lists\n",
    "new_list = a_list + list(range(10))\n",
    "new_list"
   ]
  },
  {
   "cell_type": "markdown",
   "id": "ec971f72-30fa-41b1-9783-7e703cbedc04",
   "metadata": {},
   "source": [
    "With append we can add a element to the list, in this case a list in the list."
   ]
  },
  {
   "cell_type": "code",
   "execution_count": 30,
   "id": "00e17b87-0452-4803-97a3-b90fc469e402",
   "metadata": {},
   "outputs": [
    {
     "name": "stdout",
     "output_type": "stream",
     "text": [
      "['Kalle', [1, True, None, [], 'string value']]\n"
     ]
    }
   ],
   "source": [
    "x = [\"Kalle\"]\n",
    "x.append(a_list)\n",
    "print(x)"
   ]
  },
  {
   "cell_type": "markdown",
   "id": "1d9db936-ae8c-4715-8222-7310f0531c9a",
   "metadata": {},
   "source": [
    "If we want to instead add all elements of `a_list` to `x` we can use `.extend(...)`"
   ]
  },
  {
   "cell_type": "code",
   "execution_count": 32,
   "id": "d39d58b4-a93a-4519-84e9-885aaff98e2f",
   "metadata": {},
   "outputs": [
    {
     "name": "stdout",
     "output_type": "stream",
     "text": [
      "['Kalle', 1, True, None, [], 'string value']\n"
     ]
    }
   ],
   "source": [
    "x = [\"Kalle\"]\n",
    "x.extend(a_list)\n",
    "print(x)"
   ]
  },
  {
   "cell_type": "code",
   "execution_count": 33,
   "id": "af54c6fa-c6d5-42bc-bdd1-7ef18c8b5ed1",
   "metadata": {},
   "outputs": [
    {
     "name": "stdout",
     "output_type": "stream",
     "text": [
      "[1, True, None, [], 'string value']\n"
     ]
    }
   ],
   "source": [
    "print(a_list)"
   ]
  },
  {
   "cell_type": "code",
   "execution_count": 38,
   "id": "2ee263e6-fac7-4959-9ec1-8610ea028c78",
   "metadata": {},
   "outputs": [
    {
     "name": "stdout",
     "output_type": "stream",
     "text": [
      "['Kalle', 1, True, None, [], 'string value', 1, True, None, [], 'string value']\n"
     ]
    }
   ],
   "source": [
    "new_list = [*x, *a_list]\n",
    "# Roughly: [ x[0], x[1], x[2], ..., x[n], a_list[1], ... , a_list[n] ]\n",
    "print(new_list)"
   ]
  },
  {
   "cell_type": "markdown",
   "id": "14688ad6-5d0e-4f6f-9b51-f0602d3faed6",
   "metadata": {},
   "source": [
    "---\n",
    "\n",
    "# Common list methods\n",
    "\n",
    "Called by on the list data/variable, for instance `new_list.remove(1)`\n",
    "\n",
    "- `.append(x)`: Append item to list\n",
    "- `.extend(other_list)`: Append a list to the list \n",
    "- `.insert(i, x)`: Insert an item x at a given position i.\n",
    "- `.remove(x)`: Remove the first item from the list whose value is equal to x.\n",
    "\n",
    "More functions: <https://docs.python.org/3/tutorial/datastructures.html#more-on-lists>"
   ]
  },
  {
   "cell_type": "markdown",
   "id": "7fb51244-02f7-4924-a37e-8cacd2d776d4",
   "metadata": {},
   "source": [
    "---\n",
    "\n",
    "# Dict, dictionary\n",
    "\n",
    "Key-value storage of data, maps from a key to the value.\n",
    "\n",
    "<https://www.learnbyexample.org/python-dictionary/>"
   ]
  },
  {
   "cell_type": "code",
   "execution_count": null,
   "id": "eaf81d24-ccc8-4af5-b779-df96aeef3337",
   "metadata": {},
   "outputs": [],
   "source": [
    "my_dictionary = {\n",
    "    \"name\": \"Ada Lovelace\",\n",
    "    \"born_year\": 1815,\n",
    "    \"expertise\": \"The first computer programmer.\"\n",
    "}\n",
    "\n",
    "for key, value in my_dictionary.items():\n",
    "    print(key, ': ', value)"
   ]
  },
  {
   "cell_type": "code",
   "execution_count": null,
   "id": "88ec0f4e-7811-4d2a-8db9-a76ad66cc6fe",
   "metadata": {},
   "outputs": [],
   "source": []
  }
 ],
 "metadata": {
  "kernelspec": {
   "display_name": "Python 3 (ipykernel)",
   "language": "python",
   "name": "python3"
  },
  "language_info": {
   "codemirror_mode": {
    "name": "ipython",
    "version": 3
   },
   "file_extension": ".py",
   "mimetype": "text/x-python",
   "name": "python",
   "nbconvert_exporter": "python",
   "pygments_lexer": "ipython3",
   "version": "3.10.3"
  }
 },
 "nbformat": 4,
 "nbformat_minor": 5
}
